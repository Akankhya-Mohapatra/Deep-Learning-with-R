{
  "nbformat": 4,
  "nbformat_minor": 0,
  "metadata": {
    "colab": {
      "name": "Copy of Export_Rmd_Fin",
      "provenance": [],
      "collapsed_sections": [],
      "machine_shape": "hm"
    },
    "kernelspec": {
      "name": "ir",
      "display_name": "R"
    },
    "language_info": {
      "name": "R"
    },
    "accelerator": "GPU"
  },
  "cells": [
    {
      "cell_type": "code",
      "metadata": {
        "colab": {
          "base_uri": "https://localhost:8080/",
          "height": 51
        },
        "id": "mrBfzDgvlGdw",
        "outputId": "40c160a7-89fb-4789-aaa2-9bff74036756"
      },
      "source": [
        "system('wget https://github.com/jgm/pandoc/releases/download/2.13/pandoc-2.13-1-amd64.deb', intern=TRUE)\n",
        "system('sudo dpkg -i ./pandoc-2.13-1-amd64.deb', intern = TRUE)"
      ],
      "execution_count": null,
      "outputs": [
        {
          "output_type": "display_data",
          "data": {
            "text/plain": [
              "character(0)"
            ],
            "text/latex": "",
            "text/markdown": "",
            "text/html": [
              ""
            ]
          },
          "metadata": {
            "tags": []
          }
        },
        {
          "output_type": "display_data",
          "data": {
            "text/plain": [
              "[1] \"(Reading database ... 160690 files and directories currently installed.)\"\n",
              "[2] \"Preparing to unpack ./pandoc-2.13-1-amd64.deb ...\"                       \n",
              "[3] \"Unpacking pandoc (2.13-1) over (1.19.2.4~dfsg-1build4) ...\"              \n",
              "[4] \"Setting up pandoc (2.13-1) ...\"                                          \n",
              "[5] \"Processing triggers for man-db (2.8.3-2ubuntu0.1) ...\"                   "
            ],
            "text/latex": "\\begin{enumerate*}\n\\item '(Reading database ... 160690 files and directories currently installed.)'\n\\item 'Preparing to unpack ./pandoc-2.13-1-amd64.deb ...'\n\\item 'Unpacking pandoc (2.13-1) over (1.19.2.4\\textasciitilde{}dfsg-1build4) ...'\n\\item 'Setting up pandoc (2.13-1) ...'\n\\item 'Processing triggers for man-db (2.8.3-2ubuntu0.1) ...'\n\\end{enumerate*}\n",
            "text/markdown": "1. '(Reading database ... 160690 files and directories currently installed.)'\n2. 'Preparing to unpack ./pandoc-2.13-1-amd64.deb ...'\n3. 'Unpacking pandoc (2.13-1) over (1.19.2.4~dfsg-1build4) ...'\n4. 'Setting up pandoc (2.13-1) ...'\n5. 'Processing triggers for man-db (2.8.3-2ubuntu0.1) ...'\n\n\n",
            "text/html": [
              "<style>\n",
              ".list-inline {list-style: none; margin:0; padding: 0}\n",
              ".list-inline>li {display: inline-block}\n",
              ".list-inline>li:not(:last-child)::after {content: \"\\00b7\"; padding: 0 .5ex}\n",
              "</style>\n",
              "<ol class=list-inline><li>'(Reading database ... 160690 files and directories currently installed.)'</li><li>'Preparing to unpack ./pandoc-2.13-1-amd64.deb ...'</li><li>'Unpacking pandoc (2.13-1) over (1.19.2.4~dfsg-1build4) ...'</li><li>'Setting up pandoc (2.13-1) ...'</li><li>'Processing triggers for man-db (2.8.3-2ubuntu0.1) ...'</li></ol>\n"
            ]
          },
          "metadata": {
            "tags": []
          }
        }
      ]
    },
    {
      "cell_type": "code",
      "metadata": {
        "colab": {
          "base_uri": "https://localhost:8080/"
        },
        "id": "xkNNTly7chkb",
        "outputId": "eff2d119-6c1c-4dde-b456-02c9277ec0c5"
      },
      "source": [
        "install.packages('rmarkdown')\n",
        "install.packages('tinytex')\n",
        "install.packages('doParallel')\n",
        "install.packages('ggplot2')\n",
        "install.packages('torch')\n",
        "install.packages('kableExtra')\n",
        "install.packages('randomForest')\n",
        "install.packages('randomForestSRC')\n",
        "install.packages('ranger')\n",
        "tinytex::install_tinytex()"
      ],
      "execution_count": null,
      "outputs": [
        {
          "output_type": "stream",
          "text": [
            "Installing package into ‘/usr/local/lib/R/site-library’\n",
            "(as ‘lib’ is unspecified)\n",
            "\n",
            "Installing package into ‘/usr/local/lib/R/site-library’\n",
            "(as ‘lib’ is unspecified)\n",
            "\n",
            "Installing package into ‘/usr/local/lib/R/site-library’\n",
            "(as ‘lib’ is unspecified)\n",
            "\n",
            "Installing package into ‘/usr/local/lib/R/site-library’\n",
            "(as ‘lib’ is unspecified)\n",
            "\n",
            "Installing package into ‘/usr/local/lib/R/site-library’\n",
            "(as ‘lib’ is unspecified)\n",
            "\n",
            "Installing package into ‘/usr/local/lib/R/site-library’\n",
            "(as ‘lib’ is unspecified)\n",
            "\n",
            "Installing package into ‘/usr/local/lib/R/site-library’\n",
            "(as ‘lib’ is unspecified)\n",
            "\n",
            "Installing package into ‘/usr/local/lib/R/site-library’\n",
            "(as ‘lib’ is unspecified)\n",
            "\n",
            "Installing package into ‘/usr/local/lib/R/site-library’\n",
            "(as ‘lib’ is unspecified)\n",
            "\n",
            "tlmgr option sys_bin ~/bin\n",
            "\n"
          ],
          "name": "stderr"
        }
      ]
    },
    {
      "cell_type": "code",
      "metadata": {
        "colab": {
          "base_uri": "https://localhost:8080/"
        },
        "id": "Nh72jD3geRUA",
        "outputId": "ad2e937d-9aec-42bb-b2b0-35d47fea4fd0"
      },
      "source": [
        "rmarkdown::render('Projet_JL_ZR_AM.Rmd', 'html_document', clean = FALSE)"
      ],
      "execution_count": 5,
      "outputs": [
        {
          "output_type": "stream",
          "text": [
            "\n",
            "\n",
            "processing file: Projet_JL_ZR_AM.Rmd\n",
            "\n"
          ],
          "name": "stderr"
        },
        {
          "output_type": "stream",
          "text": [
            "  |.                                                                     |   1%\n",
            "  ordinary text without R code\n",
            "\n",
            "  |..                                                                    |   3%\n",
            "label: global_options (with options) \n",
            "List of 1\n",
            " $ include: logi FALSE\n",
            "\n",
            "  |...                                                                   |   4%\n",
            "label: setup (with options) \n",
            "List of 1\n",
            " $ include: logi FALSE\n",
            "\n",
            "  |....                                                                  |   6%\n",
            "  ordinary text without R code\n",
            "\n",
            "  |.....                                                                 |   7%\n",
            "label: unnamed-chunk-1\n",
            "  |......                                                                |   8%\n",
            "  ordinary text without R code\n",
            "\n",
            "  |.......                                                               |  10%\n",
            "label: unnamed-chunk-2 (with options) \n",
            "List of 4\n",
            " $ echo     : logi FALSE\n",
            " $ fig.cap  : chr \"Moores Law Illustration\"\n",
            " $ out.width: chr \"80%\"\n",
            " $ fig.align: chr \"center\"\n",
            "\n",
            "  |........                                                              |  11%\n",
            "  ordinary text without R code\n",
            "\n",
            "  |.........                                                             |  12%\n",
            "label: unnamed-chunk-3 (with options) \n",
            "List of 4\n",
            " $ echo     : logi FALSE\n",
            " $ fig.cap  : chr \"Task Management\"\n",
            " $ out.width: chr \"80%\"\n",
            " $ fig.align: chr \"center\"\n",
            "\n",
            "  |..........                                                            |  14%\n",
            "  ordinary text without R code\n",
            "\n",
            "  |...........                                                           |  15%\n",
            "label: unnamed-chunk-4\n",
            "  |............                                                          |  17%\n",
            "  ordinary text without R code\n",
            "\n",
            "  |.............                                                         |  18%\n",
            "label: unnamed-chunk-5\n",
            "  |..............                                                        |  19%\n",
            "  ordinary text without R code\n",
            "\n",
            "  |...............                                                       |  21%\n",
            "label: unnamed-chunk-6\n",
            "  |................                                                      |  22%\n",
            "  ordinary text without R code\n",
            "\n",
            "  |.................                                                     |  24%\n",
            "label: unnamed-chunk-7\n",
            "  |..................                                                    |  25%\n",
            "  ordinary text without R code\n",
            "\n",
            "  |..................                                                    |  26%\n",
            "label: unnamed-chunk-8\n",
            "  |...................                                                   |  28%\n",
            "  ordinary text without R code\n",
            "\n",
            "  |....................                                                  |  29%\n",
            "label: unnamed-chunk-9\n",
            "  |.....................                                                 |  31%\n",
            "  ordinary text without R code\n",
            "\n",
            "  |......................                                                |  32%\n",
            "label: unnamed-chunk-10\n",
            "  |.......................                                               |  33%\n",
            "  ordinary text without R code\n",
            "\n",
            "  |........................                                              |  35%\n",
            "label: unnamed-chunk-11\n",
            "  |.........................                                             |  36%\n",
            "  ordinary text without R code\n",
            "\n",
            "  |..........................                                            |  38%\n",
            "label: mc sim seq (with options) \n",
            "List of 2\n",
            " $ include: logi TRUE\n",
            " $ echo   : logi TRUE\n",
            "\n",
            "  |...........................                                           |  39%\n",
            "  ordinary text without R code\n",
            "\n",
            "  |............................                                          |  40%\n",
            "label: sort with mc foreach (with options) \n",
            "List of 3\n",
            " $ include: logi TRUE\n",
            " $ echo   : logi TRUE\n",
            " $ warning: logi FALSE\n",
            "\n",
            "  |.............................                                         |  42%\n",
            "  ordinary text without R code\n",
            "\n",
            "  |..............................                                        |  43%\n",
            "label: sort with mc parSapply (with options) \n",
            "List of 2\n",
            " $ include: logi TRUE\n",
            " $ echo   : logi TRUE\n",
            "\n",
            "  |...............................                                       |  44%\n",
            "  ordinary text without R code\n",
            "\n",
            "  |................................                                      |  46%\n",
            "label: compare values (with options) \n",
            "List of 2\n",
            " $ echo   : logi TRUE\n",
            " $ include: logi TRUE\n",
            "\n",
            "  |.................................                                     |  47%\n",
            "  ordinary text without R code\n",
            "\n",
            "  |..................................                                    |  49%\n",
            "label: plot perf (with options) \n",
            "List of 2\n",
            " $ include: logi TRUE\n",
            " $ echo   : logi TRUE\n",
            "\n",
            "  |...................................                                   |  50%\n",
            "  ordinary text without R code\n",
            "\n",
            "  |....................................                                  |  51%\n",
            "label: unnamed-chunk-12\n",
            "  |.....................................                                 |  53%\n",
            "  ordinary text without R code\n",
            "\n",
            "  |......................................                                |  54%\n",
            "label: unnamed-chunk-13\n",
            "  |.......................................                               |  56%\n",
            "  ordinary text without R code\n",
            "\n",
            "  |........................................                              |  57%\n",
            "label: unnamed-chunk-14\n",
            "  |.........................................                             |  58%\n",
            "  ordinary text without R code\n",
            "\n",
            "  |..........................................                            |  60%\n",
            "label: unnamed-chunk-15\n",
            "  |...........................................                           |  61%\n",
            "  ordinary text without R code\n",
            "\n",
            "  |............................................                          |  62%\n",
            "label: unnamed-chunk-16\n",
            "  |.............................................                         |  64%\n",
            "   inline R code fragments\n",
            "\n",
            "  |..............................................                        |  65%\n",
            "label: unnamed-chunk-17\n",
            "  |...............................................                       |  67%\n",
            "   inline R code fragments\n",
            "\n",
            "  |................................................                      |  68%\n",
            "label: unnamed-chunk-18\n",
            "  |.................................................                     |  69%\n",
            "   inline R code fragments\n",
            "\n",
            "  |..................................................                    |  71%\n",
            "label: unnamed-chunk-19\n",
            "  |...................................................                   |  72%\n",
            "  ordinary text without R code\n",
            "\n",
            "  |....................................................                  |  74%\n",
            "label: unnamed-chunk-20\n",
            "  |....................................................                  |  75%\n",
            "   inline R code fragments\n",
            "\n",
            "  |.....................................................                 |  76%\n",
            "label: unnamed-chunk-21\n",
            "  |......................................................                |  78%\n",
            "   inline R code fragments\n",
            "\n",
            "  |.......................................................               |  79%\n",
            "label: unnamed-chunk-22\n",
            "  |........................................................              |  81%\n",
            "  ordinary text without R code\n",
            "\n",
            "  |.........................................................             |  82%\n",
            "label: unnamed-chunk-23 (with options) \n",
            "List of 2\n",
            " $ fig.width : num 10\n",
            " $ fig.height: num 5\n",
            "\n",
            "  |..........................................................            |  83%\n",
            "  ordinary text without R code\n",
            "\n",
            "  |...........................................................           |  85%\n",
            "label: unnamed-chunk-24\n",
            "  |............................................................          |  86%\n",
            "  ordinary text without R code\n",
            "\n",
            "  |.............................................................         |  88%\n",
            "label: unnamed-chunk-25\n",
            "  |..............................................................        |  89%\n",
            "  ordinary text without R code\n",
            "\n",
            "  |...............................................................       |  90%\n",
            "label: unnamed-chunk-26\n",
            "  |................................................................      |  92%\n",
            "  ordinary text without R code\n",
            "\n",
            "  |.................................................................     |  93%\n",
            "label: unnamed-chunk-27\n",
            "  |..................................................................    |  94%\n",
            "  ordinary text without R code\n",
            "\n",
            "  |...................................................................   |  96%\n",
            "label: unnamed-chunk-28\n",
            "  |....................................................................  |  97%\n",
            "  ordinary text without R code\n",
            "\n",
            "  |..................................................................... |  99%\n",
            "label: unnamed-chunk-29 (with options) \n",
            "List of 2\n",
            " $ fig.width : num 10\n",
            " $ fig.height: num 6\n",
            "\n",
            "  |......................................................................| 100%\n",
            "   inline R code fragments\n",
            "\n",
            "\n"
          ],
          "name": "stdout"
        },
        {
          "output_type": "stream",
          "text": [
            "output file: Projet_JL_ZR_AM.knit.md\n",
            "\n",
            "\n"
          ],
          "name": "stderr"
        },
        {
          "output_type": "stream",
          "text": [
            "/usr/bin/pandoc +RTS -K512m -RTS Projet_JL_ZR_AM.utf8.md --to html4 --from markdown+autolink_bare_uris+tex_math_single_backslash --output Projet_JL_ZR_AM.html --lua-filter /usr/local/lib/R/site-library/rmarkdown/rmarkdown/lua/pagebreak.lua --lua-filter /usr/local/lib/R/site-library/rmarkdown/rmarkdown/lua/latex-div.lua --self-contained --variable bs3=TRUE --standalone --section-divs --template /usr/local/lib/R/site-library/rmarkdown/rmd/h/default.html --no-highlight --variable highlightjs=1 --variable theme=bootstrap --include-in-header /tmp/RtmpsDndps/rmarkdown-str492f4bffe9.html --mathjax --variable 'mathjax-url:https://mathjax.rstudio.com/latest/MathJax.js?config=TeX-AMS-MML_HTMLorMML' --citeproc \n"
          ],
          "name": "stdout"
        },
        {
          "output_type": "stream",
          "text": [
            "\n",
            "Output created: Projet_JL_ZR_AM.html\n",
            "\n"
          ],
          "name": "stderr"
        }
      ]
    },
    {
      "cell_type": "code",
      "metadata": {
        "colab": {
          "base_uri": "https://localhost:8080/",
          "height": 102
        },
        "id": "Lqc062I_RSsS",
        "outputId": "23c9345e-aa7e-41d7-bbcf-aa8c3d886326"
      },
      "source": [
        "rmarkdown::find_pandoc(cache = FALSE)"
      ],
      "execution_count": null,
      "outputs": [
        {
          "output_type": "display_data",
          "data": {
            "text/plain": [
              "$version\n",
              "[1] ‘2.13’\n",
              "\n",
              "$dir\n",
              "[1] \"/usr/bin\"\n"
            ]
          },
          "metadata": {
            "tags": []
          }
        }
      ]
    },
    {
      "cell_type": "code",
      "metadata": {
        "id": "4KmX5N0Wuwai"
      },
      "source": [
        "library(torch)\n",
        "device_big_ops = \"cpu\""
      ],
      "execution_count": null,
      "outputs": []
    },
    {
      "cell_type": "code",
      "metadata": {
        "id": "PshodvVeuxXk"
      },
      "source": [
        "nb_heroes = 113\n",
        "colnames_hero = paste0('H',1:nb_heroes)\n",
        "colnames_df = c('Win', 'Cluster', 'GameMode', 'GameType',  colnames_hero)\n",
        "data_train = read.csv('dota2Train.csv', col.names = colnames_df)"
      ],
      "execution_count": null,
      "outputs": []
    },
    {
      "cell_type": "code",
      "metadata": {
        "colab": {
          "base_uri": "https://localhost:8080/",
          "height": 376
        },
        "id": "rXt2FVAC1TUC",
        "outputId": "cdabf3c0-631d-40f5-a7c7-feed050d9a2e"
      },
      "source": [
        "data_heroes = data_train[,-(1:4)]\n",
        "heroes_mat = as.matrix(data_heroes)\n",
        "heroes_mat_all = rbind(heroes_mat > 0, heroes_mat < 0)\n",
        "class(heroes_mat_all) = 'numeric'\n",
        "heroes_mat_all[1:10,1:10]"
      ],
      "execution_count": null,
      "outputs": [
        {
          "output_type": "display_data",
          "data": {
            "text/plain": [
              "      H1 H2 H3 H4 H5 H6 H7 H8 H9 H10\n",
              " [1,] 0  0  0  1  0  0  0  0  0  0  \n",
              " [2,] 0  0  0  1  0  0  0  0  0  0  \n",
              " [3,] 0  0  0  0  0  0  0  0  0  0  \n",
              " [4,] 0  0  0  0  0  0  0  0  0  0  \n",
              " [5,] 0  1  0  0  0  0  0  0  0  0  \n",
              " [6,] 0  0  0  0  0  0  0  0  0  0  \n",
              " [7,] 0  0  0  0  0  0  0  0  0  0  \n",
              " [8,] 0  0  1  0  0  0  0  0  0  0  \n",
              " [9,] 0  0  0  1  0  0  0  0  0  0  \n",
              "[10,] 0  1  0  0  1  1  0  0  0  0  "
            ],
            "text/latex": "A matrix: 10 × 10 of type dbl\n\\begin{tabular}{llllllllll}\n H1 & H2 & H3 & H4 & H5 & H6 & H7 & H8 & H9 & H10\\\\\n\\hline\n\t 0 & 0 & 0 & 1 & 0 & 0 & 0 & 0 & 0 & 0\\\\\n\t 0 & 0 & 0 & 1 & 0 & 0 & 0 & 0 & 0 & 0\\\\\n\t 0 & 0 & 0 & 0 & 0 & 0 & 0 & 0 & 0 & 0\\\\\n\t 0 & 0 & 0 & 0 & 0 & 0 & 0 & 0 & 0 & 0\\\\\n\t 0 & 1 & 0 & 0 & 0 & 0 & 0 & 0 & 0 & 0\\\\\n\t 0 & 0 & 0 & 0 & 0 & 0 & 0 & 0 & 0 & 0\\\\\n\t 0 & 0 & 0 & 0 & 0 & 0 & 0 & 0 & 0 & 0\\\\\n\t 0 & 0 & 1 & 0 & 0 & 0 & 0 & 0 & 0 & 0\\\\\n\t 0 & 0 & 0 & 1 & 0 & 0 & 0 & 0 & 0 & 0\\\\\n\t 0 & 1 & 0 & 0 & 1 & 1 & 0 & 0 & 0 & 0\\\\\n\\end{tabular}\n",
            "text/markdown": "\nA matrix: 10 × 10 of type dbl\n\n| H1 | H2 | H3 | H4 | H5 | H6 | H7 | H8 | H9 | H10 |\n|---|---|---|---|---|---|---|---|---|---|\n| 0 | 0 | 0 | 1 | 0 | 0 | 0 | 0 | 0 | 0 |\n| 0 | 0 | 0 | 1 | 0 | 0 | 0 | 0 | 0 | 0 |\n| 0 | 0 | 0 | 0 | 0 | 0 | 0 | 0 | 0 | 0 |\n| 0 | 0 | 0 | 0 | 0 | 0 | 0 | 0 | 0 | 0 |\n| 0 | 1 | 0 | 0 | 0 | 0 | 0 | 0 | 0 | 0 |\n| 0 | 0 | 0 | 0 | 0 | 0 | 0 | 0 | 0 | 0 |\n| 0 | 0 | 0 | 0 | 0 | 0 | 0 | 0 | 0 | 0 |\n| 0 | 0 | 1 | 0 | 0 | 0 | 0 | 0 | 0 | 0 |\n| 0 | 0 | 0 | 1 | 0 | 0 | 0 | 0 | 0 | 0 |\n| 0 | 1 | 0 | 0 | 1 | 1 | 0 | 0 | 0 | 0 |\n\n",
            "text/html": [
              "<table class=\"dataframe\">\n",
              "<caption>A matrix: 10 × 10 of type dbl</caption>\n",
              "<thead>\n",
              "\t<tr><th scope=col>H1</th><th scope=col>H2</th><th scope=col>H3</th><th scope=col>H4</th><th scope=col>H5</th><th scope=col>H6</th><th scope=col>H7</th><th scope=col>H8</th><th scope=col>H9</th><th scope=col>H10</th></tr>\n",
              "</thead>\n",
              "<tbody>\n",
              "\t<tr><td>0</td><td>0</td><td>0</td><td>1</td><td>0</td><td>0</td><td>0</td><td>0</td><td>0</td><td>0</td></tr>\n",
              "\t<tr><td>0</td><td>0</td><td>0</td><td>1</td><td>0</td><td>0</td><td>0</td><td>0</td><td>0</td><td>0</td></tr>\n",
              "\t<tr><td>0</td><td>0</td><td>0</td><td>0</td><td>0</td><td>0</td><td>0</td><td>0</td><td>0</td><td>0</td></tr>\n",
              "\t<tr><td>0</td><td>0</td><td>0</td><td>0</td><td>0</td><td>0</td><td>0</td><td>0</td><td>0</td><td>0</td></tr>\n",
              "\t<tr><td>0</td><td>1</td><td>0</td><td>0</td><td>0</td><td>0</td><td>0</td><td>0</td><td>0</td><td>0</td></tr>\n",
              "\t<tr><td>0</td><td>0</td><td>0</td><td>0</td><td>0</td><td>0</td><td>0</td><td>0</td><td>0</td><td>0</td></tr>\n",
              "\t<tr><td>0</td><td>0</td><td>0</td><td>0</td><td>0</td><td>0</td><td>0</td><td>0</td><td>0</td><td>0</td></tr>\n",
              "\t<tr><td>0</td><td>0</td><td>1</td><td>0</td><td>0</td><td>0</td><td>0</td><td>0</td><td>0</td><td>0</td></tr>\n",
              "\t<tr><td>0</td><td>0</td><td>0</td><td>1</td><td>0</td><td>0</td><td>0</td><td>0</td><td>0</td><td>0</td></tr>\n",
              "\t<tr><td>0</td><td>1</td><td>0</td><td>0</td><td>1</td><td>1</td><td>0</td><td>0</td><td>0</td><td>0</td></tr>\n",
              "</tbody>\n",
              "</table>\n"
            ]
          },
          "metadata": {
            "tags": []
          }
        }
      ]
    },
    {
      "cell_type": "code",
      "metadata": {
        "colab": {
          "base_uri": "https://localhost:8080/"
        },
        "id": "3wvFKbIp1Gmj",
        "outputId": "9f6165bc-fa09-45f5-9ff3-7e2cf1faf02b"
      },
      "source": [
        "compare_heroes_torch = function(data_heroes, device_big_ops){\n",
        "  # convert dataframe to tensor\n",
        "  heroes_mat_all = torch_tensor(data_heroes, device = \"cpu\", dtype=torch_float32())\n",
        "  tensor_heroes = heroes_mat_all$to(device=device_big_ops)\n",
        "  \n",
        "  #Execute the einsum\n",
        "  a = torch_einsum('gi,gj,gk->ijk', list(tensor_heroes, tensor_heroes, tensor_heroes))\n",
        "  \n",
        "  #Find position of the argmax while reshaping the result tensor\n",
        "  shape_tot = torch_flatten(a)$shape\n",
        "  pos = torch_arange(1, shape_tot+1, device = device_big_ops)\n",
        "  i = torch_floor_divide(pos, (nb_heroes*nb_heroes))\n",
        "  j = torch_floor_divide(pos-i*nb_heroes*nb_heroes, nb_heroes)\n",
        "  k = pos - i * nb_heroes * nb_heroes - j * nb_heroes\n",
        "  pos = torch_vstack(c(pos, i+1 , j+1, k, torch_flatten(a)))\n",
        "  \n",
        "  # Take only the upper pyramidal part of the tensor to avoid repetitions\n",
        "  pos = pos[,pos[2,]<pos[3,]]\n",
        "  pos = pos[,pos[3,]<pos[4,]]\n",
        "  \n",
        "  pos_max = torch_argmax(pos[5,])\n",
        "  max_val = pos[,pos_max]\n",
        "  return(max_val)\n",
        "}\n",
        "\n",
        "#Time elapsed calculations\n",
        "time_func = system.time(final_matrix_apply <- compare_heroes_torch(heroes_mat_all, \"cpu\"))\n",
        "time_5 = time_func[3]\n",
        "print(time_5)\n",
        "print(final_matrix_apply)"
      ],
      "execution_count": null,
      "outputs": [
        {
          "output_type": "stream",
          "text": [
            "elapsed \n",
            "  5.076 \n",
            "torch_tensor\n",
            " 103725\n",
            "      9\n",
            "     14\n",
            "    104\n",
            "    502\n",
            "[ CPUFloatType{5} ]\n"
          ],
          "name": "stdout"
        }
      ]
    },
    {
      "cell_type": "code",
      "metadata": {
        "colab": {
          "base_uri": "https://localhost:8080/"
        },
        "id": "rFQgF4DI2Sau",
        "outputId": "f9e92f14-0212-4ae9-d8a9-45fbcd5663d0"
      },
      "source": [
        "#Time elapsed calculations\n",
        "time_func = system.time(final_matrix_apply <- compare_heroes_torch(heroes_mat_all, \"cuda\"))\n",
        "time_5 = time_func[3]\n",
        "print(time_5)\n",
        "print(final_matrix_apply)"
      ],
      "execution_count": null,
      "outputs": [
        {
          "output_type": "stream",
          "text": [
            "elapsed \n",
            "  0.373 \n",
            "torch_tensor\n",
            " 103725\n",
            "      9\n",
            "     14\n",
            "    104\n",
            "    502\n",
            "[ CUDAFloatType{5} ]\n"
          ],
          "name": "stdout"
        }
      ]
    }
  ]
}